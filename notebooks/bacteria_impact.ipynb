{
 "cells": [
  {
   "cell_type": "markdown",
   "id": "7706e264-cdd6-40a8-a357-879da9ce6612",
   "metadata": {},
   "source": [
    "# Supervised estimation of bacteria impact on severity of symptoms\n",
    "\n",
    "If you have data about how much different probiotics/other things improved your symptoms and how much of a herx you had, and combine this with data about impact on different groups of bacteria from https://microbiomesubscription.com, you can make a model that estimates the former from the latter.\n",
    "\n",
    "The intuition is that if some probiotic helped, and we know which bacteria it shifts, then conceivably those shifts are good. We can discover such relationships for single probiotics by eye, or we can make a model that'll consider & combine all of them.\n",
    "\n",
    "There's a very small amount of data, so I use linear regression. I'll treat a positive/negative coefficient as \"I should increase/decrease this bacteria\". Then I can prioritize those bacteria in my treatment plan."
   ]
  },
  {
   "cell_type": "code",
   "execution_count": 1,
   "id": "280a5d66-8903-4099-8610-40794c36c2ba",
   "metadata": {},
   "outputs": [],
   "source": [
    "import random\n",
    "\n",
    "import cvxpy as cp\n",
    "import numpy as np\n",
    "import pandas as pd\n",
    "from scipy import stats\n",
    "import seaborn as sns\n",
    "from sklearn import base as skb\n",
    "from sklearn import linear_model as sklin\n",
    "from sklearn import model_selection as skval\n",
    "\n",
    "from cfs_notebooks import scrambling"
   ]
  },
  {
   "cell_type": "markdown",
   "id": "dd5e2c13-6c35-44a3-9554-b2b454d92d6e",
   "metadata": {},
   "source": [
    "## Data preparation\n",
    "\n",
    "The data format requires 3 columns:\n",
    "* `probiotic` - name of the microbiome modifier; here I only consider probiotics but it can be whatever\n",
    "* `herx level` - herx severity on scale 0 .. 2:\n",
    "  * 0 - no herx\n",
    "  * 1 - small/transient herx\n",
    "  * 2 - intense herx\n",
    "* `improvement?` - whether there was an improvement in symptoms: yes/maybe/no\n",
    "\n",
    "Plus however many columns corresponding to bacteria groups that the modifiers affect. I've chosen bacteria that are either \"important\" (e.g. Bifidobacterium) or which I have a strong imbalance in. Each column is a string `i:d` where i, d are the numbers of studies reporting an increase and decrease respectively. Data comes from http://microbiomesubscription.com plus a Candida column based on papers I found.\n",
    "\n",
    "`how long before herx` is not used."
   ]
  },
  {
   "cell_type": "code",
   "execution_count": 2,
   "id": "e6f9d773-c748-4f99-bccc-398b577368d1",
   "metadata": {},
   "outputs": [
    {
     "data": {
      "text/html": [
       "<div>\n",
       "<style scoped>\n",
       "    .dataframe tbody tr th:only-of-type {\n",
       "        vertical-align: middle;\n",
       "    }\n",
       "\n",
       "    .dataframe tbody tr th {\n",
       "        vertical-align: top;\n",
       "    }\n",
       "\n",
       "    .dataframe thead th {\n",
       "        text-align: right;\n",
       "    }\n",
       "</style>\n",
       "<table border=\"1\" class=\"dataframe\">\n",
       "  <thead>\n",
       "    <tr style=\"text-align: right;\">\n",
       "      <th></th>\n",
       "      <th>herx level</th>\n",
       "      <th>how long before herx</th>\n",
       "      <th>improvement?</th>\n",
       "      <th>Candida</th>\n",
       "      <th>A. muciniphila</th>\n",
       "      <th>Bacteroides</th>\n",
       "      <th>Bacteroidetes</th>\n",
       "      <th>Bifidobacterium</th>\n",
       "      <th>Blautia</th>\n",
       "      <th>Clostridium</th>\n",
       "      <th>...</th>\n",
       "      <th>E. faecium</th>\n",
       "      <th>Faecalibacterium</th>\n",
       "      <th>Firmicutes</th>\n",
       "      <th>Lachnospiraceae</th>\n",
       "      <th>Lactobacillus</th>\n",
       "      <th>Oscillospira</th>\n",
       "      <th>Proteobacteria</th>\n",
       "      <th>Roseburia</th>\n",
       "      <th>Ruminococcaceae</th>\n",
       "      <th>Ruminococcus</th>\n",
       "    </tr>\n",
       "    <tr>\n",
       "      <th>probiotic</th>\n",
       "      <th></th>\n",
       "      <th></th>\n",
       "      <th></th>\n",
       "      <th></th>\n",
       "      <th></th>\n",
       "      <th></th>\n",
       "      <th></th>\n",
       "      <th></th>\n",
       "      <th></th>\n",
       "      <th></th>\n",
       "      <th></th>\n",
       "      <th></th>\n",
       "      <th></th>\n",
       "      <th></th>\n",
       "      <th></th>\n",
       "      <th></th>\n",
       "      <th></th>\n",
       "      <th></th>\n",
       "      <th></th>\n",
       "      <th></th>\n",
       "      <th></th>\n",
       "    </tr>\n",
       "  </thead>\n",
       "  <tbody>\n",
       "    <tr>\n",
       "      <th>E. faecium</th>\n",
       "      <td>0.0</td>\n",
       "      <td>NaN</td>\n",
       "      <td>maybe</td>\n",
       "      <td>0:1</td>\n",
       "      <td>1:0</td>\n",
       "      <td>0:3</td>\n",
       "      <td>0:2</td>\n",
       "      <td>12:1</td>\n",
       "      <td>9:1</td>\n",
       "      <td>2:0</td>\n",
       "      <td>...</td>\n",
       "      <td>0:0</td>\n",
       "      <td>0:1</td>\n",
       "      <td>6:1</td>\n",
       "      <td>1:1</td>\n",
       "      <td>0:0</td>\n",
       "      <td>2:0</td>\n",
       "      <td>5:0</td>\n",
       "      <td>1:1</td>\n",
       "      <td>0:6</td>\n",
       "      <td>0:2</td>\n",
       "    </tr>\n",
       "    <tr>\n",
       "      <th>B. adolescentis</th>\n",
       "      <td>NaN</td>\n",
       "      <td>NaN</td>\n",
       "      <td>yes</td>\n",
       "      <td>0:5</td>\n",
       "      <td>0:1</td>\n",
       "      <td>2:2</td>\n",
       "      <td>4:1</td>\n",
       "      <td>0:0</td>\n",
       "      <td>3:1</td>\n",
       "      <td>0:0</td>\n",
       "      <td>...</td>\n",
       "      <td>3:0</td>\n",
       "      <td>1:0</td>\n",
       "      <td>2:1</td>\n",
       "      <td>4:1</td>\n",
       "      <td>5:1</td>\n",
       "      <td>3:2</td>\n",
       "      <td>1:1</td>\n",
       "      <td>2:2</td>\n",
       "      <td>0:6</td>\n",
       "      <td>1:2</td>\n",
       "    </tr>\n",
       "    <tr>\n",
       "      <th>L. acidophilus</th>\n",
       "      <td>NaN</td>\n",
       "      <td>NaN</td>\n",
       "      <td>maybe</td>\n",
       "      <td>0:2</td>\n",
       "      <td>3:1</td>\n",
       "      <td>2:0</td>\n",
       "      <td>1:2</td>\n",
       "      <td>0:0</td>\n",
       "      <td>1:1</td>\n",
       "      <td>2:2</td>\n",
       "      <td>...</td>\n",
       "      <td>1:0</td>\n",
       "      <td>1:0</td>\n",
       "      <td>0:6</td>\n",
       "      <td>8:1</td>\n",
       "      <td>0:1</td>\n",
       "      <td>0:9</td>\n",
       "      <td>2:0</td>\n",
       "      <td>5:1</td>\n",
       "      <td>1:0</td>\n",
       "      <td>1:0</td>\n",
       "    </tr>\n",
       "    <tr>\n",
       "      <th>B. lactis</th>\n",
       "      <td>NaN</td>\n",
       "      <td>NaN</td>\n",
       "      <td>maybe</td>\n",
       "      <td>0:0</td>\n",
       "      <td>0:0</td>\n",
       "      <td>1:4</td>\n",
       "      <td>8:0</td>\n",
       "      <td>1:0</td>\n",
       "      <td>1:1</td>\n",
       "      <td>12:1</td>\n",
       "      <td>...</td>\n",
       "      <td>3:0</td>\n",
       "      <td>5:0</td>\n",
       "      <td>1:2</td>\n",
       "      <td>2:1</td>\n",
       "      <td>0:2</td>\n",
       "      <td>1:3</td>\n",
       "      <td>5:2</td>\n",
       "      <td>0:9</td>\n",
       "      <td>9:0</td>\n",
       "      <td>4:0</td>\n",
       "    </tr>\n",
       "    <tr>\n",
       "      <th>S. boulardii</th>\n",
       "      <td>1.0</td>\n",
       "      <td>long</td>\n",
       "      <td>maybe</td>\n",
       "      <td>0:0</td>\n",
       "      <td>0:2</td>\n",
       "      <td>2:2</td>\n",
       "      <td>1:1</td>\n",
       "      <td>1:1</td>\n",
       "      <td>0:0</td>\n",
       "      <td>3:1</td>\n",
       "      <td>...</td>\n",
       "      <td>0:2</td>\n",
       "      <td>0:1</td>\n",
       "      <td>2:1</td>\n",
       "      <td>9:0</td>\n",
       "      <td>1:0</td>\n",
       "      <td>8:3</td>\n",
       "      <td>9:1</td>\n",
       "      <td>2:2</td>\n",
       "      <td>2:0</td>\n",
       "      <td>2:1</td>\n",
       "    </tr>\n",
       "    <tr>\n",
       "      <th>L. helveticus</th>\n",
       "      <td>2.0</td>\n",
       "      <td>short</td>\n",
       "      <td>no</td>\n",
       "      <td>3:0</td>\n",
       "      <td>1:0</td>\n",
       "      <td>3:0</td>\n",
       "      <td>2:0</td>\n",
       "      <td>4:0</td>\n",
       "      <td>0:0</td>\n",
       "      <td>0:1</td>\n",
       "      <td>...</td>\n",
       "      <td>2:1</td>\n",
       "      <td>0:0</td>\n",
       "      <td>1:2</td>\n",
       "      <td>0:6</td>\n",
       "      <td>0:5</td>\n",
       "      <td>2:1</td>\n",
       "      <td>7:0</td>\n",
       "      <td>7:1</td>\n",
       "      <td>0:6</td>\n",
       "      <td>0:4</td>\n",
       "    </tr>\n",
       "    <tr>\n",
       "      <th>B. infantis</th>\n",
       "      <td>1.0</td>\n",
       "      <td>long</td>\n",
       "      <td>yes</td>\n",
       "      <td>3:1</td>\n",
       "      <td>4:1</td>\n",
       "      <td>10:1</td>\n",
       "      <td>2:1</td>\n",
       "      <td>1:0</td>\n",
       "      <td>15:6</td>\n",
       "      <td>2:2</td>\n",
       "      <td>...</td>\n",
       "      <td>17:1</td>\n",
       "      <td>3:0</td>\n",
       "      <td>7:0</td>\n",
       "      <td>1:0</td>\n",
       "      <td>1:0</td>\n",
       "      <td>0:0</td>\n",
       "      <td>0:2</td>\n",
       "      <td>0:0</td>\n",
       "      <td>4:1</td>\n",
       "      <td>2:1</td>\n",
       "    </tr>\n",
       "    <tr>\n",
       "      <th>L. reuteri</th>\n",
       "      <td>1.0</td>\n",
       "      <td>long</td>\n",
       "      <td>yes</td>\n",
       "      <td>2:0</td>\n",
       "      <td>2:2</td>\n",
       "      <td>0:0</td>\n",
       "      <td>1:2</td>\n",
       "      <td>1:2</td>\n",
       "      <td>1:1</td>\n",
       "      <td>0:3</td>\n",
       "      <td>...</td>\n",
       "      <td>0:0</td>\n",
       "      <td>0:2</td>\n",
       "      <td>0:2</td>\n",
       "      <td>0:1</td>\n",
       "      <td>0:1</td>\n",
       "      <td>1:0</td>\n",
       "      <td>2:0</td>\n",
       "      <td>0:0</td>\n",
       "      <td>9:0</td>\n",
       "      <td>0:0</td>\n",
       "    </tr>\n",
       "    <tr>\n",
       "      <th>C. butyricum</th>\n",
       "      <td>2.0</td>\n",
       "      <td>long</td>\n",
       "      <td>no</td>\n",
       "      <td>0:2</td>\n",
       "      <td>1:0</td>\n",
       "      <td>2:1</td>\n",
       "      <td>1:0</td>\n",
       "      <td>1:0</td>\n",
       "      <td>2:0</td>\n",
       "      <td>8:1</td>\n",
       "      <td>...</td>\n",
       "      <td>3:0</td>\n",
       "      <td>1:1</td>\n",
       "      <td>0:0</td>\n",
       "      <td>2:0</td>\n",
       "      <td>4:5</td>\n",
       "      <td>6:0</td>\n",
       "      <td>6:0</td>\n",
       "      <td>2:2</td>\n",
       "      <td>4:5</td>\n",
       "      <td>1:0</td>\n",
       "    </tr>\n",
       "    <tr>\n",
       "      <th>A. muciniphila</th>\n",
       "      <td>0.0</td>\n",
       "      <td>NaN</td>\n",
       "      <td>maybe</td>\n",
       "      <td>6:0</td>\n",
       "      <td>1:0</td>\n",
       "      <td>2:0</td>\n",
       "      <td>5:0</td>\n",
       "      <td>1:4</td>\n",
       "      <td>0:2</td>\n",
       "      <td>2:0</td>\n",
       "      <td>...</td>\n",
       "      <td>0:4</td>\n",
       "      <td>0:0</td>\n",
       "      <td>0:1</td>\n",
       "      <td>2:1</td>\n",
       "      <td>9:3</td>\n",
       "      <td>0:0</td>\n",
       "      <td>3:3</td>\n",
       "      <td>0:1</td>\n",
       "      <td>8:2</td>\n",
       "      <td>0:0</td>\n",
       "    </tr>\n",
       "    <tr>\n",
       "      <th>L. gasseri</th>\n",
       "      <td>1.0</td>\n",
       "      <td>long</td>\n",
       "      <td>no</td>\n",
       "      <td>2:4</td>\n",
       "      <td>0:6</td>\n",
       "      <td>0:9</td>\n",
       "      <td>1:0</td>\n",
       "      <td>0:0</td>\n",
       "      <td>0:2</td>\n",
       "      <td>3:1</td>\n",
       "      <td>...</td>\n",
       "      <td>4:1</td>\n",
       "      <td>6:0</td>\n",
       "      <td>1:2</td>\n",
       "      <td>1:0</td>\n",
       "      <td>3:1</td>\n",
       "      <td>0:8</td>\n",
       "      <td>0:0</td>\n",
       "      <td>1:0</td>\n",
       "      <td>0:8</td>\n",
       "      <td>7:0</td>\n",
       "    </tr>\n",
       "    <tr>\n",
       "      <th>L. casei</th>\n",
       "      <td>2.0</td>\n",
       "      <td>short</td>\n",
       "      <td>no</td>\n",
       "      <td>2:0</td>\n",
       "      <td>6:2</td>\n",
       "      <td>2:0</td>\n",
       "      <td>7:0</td>\n",
       "      <td>4:1</td>\n",
       "      <td>0:0</td>\n",
       "      <td>6:0</td>\n",
       "      <td>...</td>\n",
       "      <td>2:0</td>\n",
       "      <td>0:0</td>\n",
       "      <td>8:0</td>\n",
       "      <td>4:2</td>\n",
       "      <td>0:0</td>\n",
       "      <td>0:5</td>\n",
       "      <td>2:2</td>\n",
       "      <td>0:0</td>\n",
       "      <td>0:1</td>\n",
       "      <td>1:0</td>\n",
       "    </tr>\n",
       "    <tr>\n",
       "      <th>B. longum</th>\n",
       "      <td>0.0</td>\n",
       "      <td>NaN</td>\n",
       "      <td>maybe</td>\n",
       "      <td>3:0</td>\n",
       "      <td>0:0</td>\n",
       "      <td>0:2</td>\n",
       "      <td>0:0</td>\n",
       "      <td>1:0</td>\n",
       "      <td>5:1</td>\n",
       "      <td>1:0</td>\n",
       "      <td>...</td>\n",
       "      <td>0:6</td>\n",
       "      <td>1:0</td>\n",
       "      <td>14:0</td>\n",
       "      <td>1:0</td>\n",
       "      <td>0:0</td>\n",
       "      <td>0:0</td>\n",
       "      <td>1:0</td>\n",
       "      <td>1:1</td>\n",
       "      <td>1:0</td>\n",
       "      <td>1:2</td>\n",
       "    </tr>\n",
       "  </tbody>\n",
       "</table>\n",
       "<p>13 rows × 24 columns</p>\n",
       "</div>"
      ],
      "text/plain": [
       "                 herx level how long before herx improvement? Candida  \\\n",
       "probiotic                                                               \n",
       "E. faecium              0.0                  NaN        maybe     0:1   \n",
       "B. adolescentis         NaN                  NaN          yes     0:5   \n",
       "L. acidophilus          NaN                  NaN        maybe     0:2   \n",
       "B. lactis               NaN                  NaN        maybe     0:0   \n",
       "S. boulardii            1.0                 long        maybe     0:0   \n",
       "L. helveticus           2.0                short           no     3:0   \n",
       "B. infantis             1.0                 long          yes     3:1   \n",
       "L. reuteri              1.0                 long          yes     2:0   \n",
       "C. butyricum            2.0                 long           no     0:2   \n",
       "A. muciniphila          0.0                  NaN        maybe     6:0   \n",
       "L. gasseri              1.0                 long           no     2:4   \n",
       "L. casei                2.0                short           no     2:0   \n",
       "B. longum               0.0                  NaN        maybe     3:0   \n",
       "\n",
       "                A. muciniphila Bacteroides Bacteroidetes Bifidobacterium  \\\n",
       "probiotic                                                                  \n",
       "E. faecium                 1:0         0:3           0:2            12:1   \n",
       "B. adolescentis            0:1         2:2           4:1             0:0   \n",
       "L. acidophilus             3:1         2:0           1:2             0:0   \n",
       "B. lactis                  0:0         1:4           8:0             1:0   \n",
       "S. boulardii               0:2         2:2           1:1             1:1   \n",
       "L. helveticus              1:0         3:0           2:0             4:0   \n",
       "B. infantis                4:1        10:1           2:1             1:0   \n",
       "L. reuteri                 2:2         0:0           1:2             1:2   \n",
       "C. butyricum               1:0         2:1           1:0             1:0   \n",
       "A. muciniphila             1:0         2:0           5:0             1:4   \n",
       "L. gasseri                 0:6         0:9           1:0             0:0   \n",
       "L. casei                   6:2         2:0           7:0             4:1   \n",
       "B. longum                  0:0         0:2           0:0             1:0   \n",
       "\n",
       "                Blautia Clostridium  ... E. faecium Faecalibacterium  \\\n",
       "probiotic                            ...                               \n",
       "E. faecium          9:1         2:0  ...        0:0              0:1   \n",
       "B. adolescentis     3:1         0:0  ...        3:0              1:0   \n",
       "L. acidophilus      1:1         2:2  ...        1:0              1:0   \n",
       "B. lactis           1:1        12:1  ...        3:0              5:0   \n",
       "S. boulardii        0:0         3:1  ...        0:2              0:1   \n",
       "L. helveticus       0:0         0:1  ...        2:1              0:0   \n",
       "B. infantis        15:6         2:2  ...       17:1              3:0   \n",
       "L. reuteri          1:1         0:3  ...        0:0              0:2   \n",
       "C. butyricum        2:0         8:1  ...        3:0              1:1   \n",
       "A. muciniphila      0:2         2:0  ...        0:4              0:0   \n",
       "L. gasseri          0:2         3:1  ...        4:1              6:0   \n",
       "L. casei            0:0         6:0  ...        2:0              0:0   \n",
       "B. longum           5:1         1:0  ...        0:6              1:0   \n",
       "\n",
       "                Firmicutes Lachnospiraceae Lactobacillus Oscillospira  \\\n",
       "probiotic                                                               \n",
       "E. faecium             6:1             1:1           0:0          2:0   \n",
       "B. adolescentis        2:1             4:1           5:1          3:2   \n",
       "L. acidophilus         0:6             8:1           0:1          0:9   \n",
       "B. lactis              1:2             2:1           0:2          1:3   \n",
       "S. boulardii           2:1             9:0           1:0          8:3   \n",
       "L. helveticus          1:2             0:6           0:5          2:1   \n",
       "B. infantis            7:0             1:0           1:0          0:0   \n",
       "L. reuteri             0:2             0:1           0:1          1:0   \n",
       "C. butyricum           0:0             2:0           4:5          6:0   \n",
       "A. muciniphila         0:1             2:1           9:3          0:0   \n",
       "L. gasseri             1:2             1:0           3:1          0:8   \n",
       "L. casei               8:0             4:2           0:0          0:5   \n",
       "B. longum             14:0             1:0           0:0          0:0   \n",
       "\n",
       "                Proteobacteria Roseburia Ruminococcaceae Ruminococcus  \n",
       "probiotic                                                              \n",
       "E. faecium                 5:0       1:1             0:6          0:2  \n",
       "B. adolescentis            1:1       2:2             0:6          1:2  \n",
       "L. acidophilus             2:0       5:1             1:0          1:0  \n",
       "B. lactis                  5:2       0:9             9:0          4:0  \n",
       "S. boulardii               9:1       2:2             2:0          2:1  \n",
       "L. helveticus              7:0       7:1             0:6          0:4  \n",
       "B. infantis                0:2       0:0             4:1          2:1  \n",
       "L. reuteri                 2:0       0:0             9:0          0:0  \n",
       "C. butyricum               6:0       2:2             4:5          1:0  \n",
       "A. muciniphila             3:3       0:1             8:2          0:0  \n",
       "L. gasseri                 0:0       1:0             0:8          7:0  \n",
       "L. casei                   2:2       0:0             0:1          1:0  \n",
       "B. longum                  1:0       1:1             1:0          1:2  \n",
       "\n",
       "[13 rows x 24 columns]"
      ]
     },
     "execution_count": 2,
     "metadata": {},
     "output_type": "execute_result"
    }
   ],
   "source": [
    "df = pd.read_csv(\"../data/Probiotics-Cycle_1_26_03_2025.csv\")\n",
    "df.set_index(df['probiotic'], inplace=True)\n",
    "del df['probiotic']\n",
    "bacteria = df.columns[3:]\n",
    "scrambling.scramble_df(df, columns=bacteria)"
   ]
  },
  {
   "cell_type": "markdown",
   "id": "84878860-d9be-4f72-a804-6473b00d5d2c",
   "metadata": {},
   "source": [
    "**Note**: values in the table above are scrambled to protect Ken Lassesen's proprietary data."
   ]
  },
  {
   "cell_type": "markdown",
   "id": "57c8e0b1-39e4-4318-8606-923881318e50",
   "metadata": {},
   "source": [
    "Compute float targets from this data:\n",
    "*  3 - improvement, no/transient/unknown herx\n",
    "*  2 - improvement, intense herx\n",
    "*  1 - maybe improvement, no herx\n",
    "*  0 - maybe improvement, transient/unknown herx or no improvement, no herx\n",
    "* -1 - no improvement, transient/unknown herx\n",
    "* -2 - maybe improvement, intense herx\n",
    "* -3 - no improvement, intense herx\n",
    "\n",
    "I'm not using softmax regression to minimize the number of parameters."
   ]
  },
  {
   "cell_type": "code",
   "execution_count": 3,
   "id": "7f23220f-3728-4446-b7fa-bb1c06a97d9c",
   "metadata": {},
   "outputs": [
    {
     "data": {
      "text/plain": [
       "probiotic\n",
       "E. faecium         1\n",
       "B. adolescentis    3\n",
       "L. acidophilus     0\n",
       "B. lactis          0\n",
       "S. boulardii       0\n",
       "L. helveticus     -3\n",
       "B. infantis        3\n",
       "L. reuteri         3\n",
       "C. butyricum      -3\n",
       "A. muciniphila     1\n",
       "L. gasseri        -1\n",
       "L. casei          -3\n",
       "B. longum          1\n",
       "dtype: int64"
      ]
     },
     "execution_count": 3,
     "metadata": {},
     "output_type": "execute_result"
    }
   ],
   "source": [
    "def calc_target(row: pd.Series) -> float:\n",
    "    improvement = row['improvement?']\n",
    "    herx = row['herx level']\n",
    "    match improvement:\n",
    "        case 'yes':\n",
    "            return 2 if herx == 2 else 3\n",
    "        case 'maybe':\n",
    "            return 1 if herx == 0 else -2 if herx == 2 else 0\n",
    "        case 'no':\n",
    "            return 0 if herx == 0 else -3 if herx == 2 else -1\n",
    "        case _:\n",
    "            raise ValueError(improvement)\n",
    "\n",
    "\n",
    "target = df.apply(calc_target, axis='columns')\n",
    "target"
   ]
  },
  {
   "cell_type": "markdown",
   "id": "8f1efd5d-005e-42ca-85ca-f8850594bdd4",
   "metadata": {},
   "source": [
    "## Feature extraction"
   ]
  },
  {
   "cell_type": "markdown",
   "id": "374f9850-bdad-439c-b774-d48c732be9fc",
   "metadata": {},
   "source": [
    "Now the features. Let's just use the log odds of the increase vs decrease. Add 1 to make it work with no/single study."
   ]
  },
  {
   "cell_type": "code",
   "execution_count": 4,
   "id": "26cfdfad-a97c-4d67-9d14-2ab7eb1f7f61",
   "metadata": {},
   "outputs": [],
   "source": [
    "def calc_score(odds: str) -> float:\n",
    "    pos, neg = map(int, odds.split(':'))\n",
    "    return np.log((pos + 1) / (neg + 1))\n",
    "\n",
    "for bacterium in bacteria:\n",
    "    df[bacterium] = df[bacterium].map(calc_score)"
   ]
  },
  {
   "cell_type": "markdown",
   "id": "285c1bf3-7df4-4dab-a338-9de475a44a88",
   "metadata": {},
   "source": [
    "Let's remove some columns because there's too many and some are correlated. This is a slight data contamination, but it shouldn't hurt too much because I use very simple models."
   ]
  },
  {
   "cell_type": "code",
   "execution_count": 5,
   "id": "a5c69768-d260-413b-9419-95705943ace1",
   "metadata": {},
   "outputs": [
    {
     "data": {
      "text/plain": [
       "<Axes: >"
      ]
     },
     "execution_count": 5,
     "metadata": {},
     "output_type": "execute_result"
    },
    {
     "data": {
      "image/png": "[encoded data removed]",
      "text/plain": [
       "<Figure size 640x480 with 2 Axes>"
      ]
     },
     "metadata": {},
     "output_type": "display_data"
    }
   ],
   "source": [
    "corr = df[bacteria].corr()\n",
    "sns.heatmap(corr)"
   ]
  },
  {
   "cell_type": "markdown",
   "id": "c0a25862-9608-469a-9ff8-0805894904ab",
   "metadata": {},
   "source": [
    "Reorder bacteria to make the heatmap more readable."
   ]
  },
  {
   "cell_type": "code",
   "execution_count": 6,
   "id": "b08aace4-86e1-48ba-9469-ccb2fb7c5c0b",
   "metadata": {},
   "outputs": [
    {
     "data": {
      "text/plain": [
       "<Axes: >"
      ]
     },
     "execution_count": 6,
     "metadata": {},
     "output_type": "execute_result"
    },
    {
     "data": {
      "image/png": "[encoded data removed]",
      "text/plain": [
       "<Figure size 640x480 with 2 Axes>"
      ]
     },
     "metadata": {},
     "output_type": "display_data"
    }
   ],
   "source": [
    "next_bacterium = max(bacteria, key=(lambda bacterium: corr[bacterium].quantile(0.99, interpolation='lower')))\n",
    "sorted_bacteria = [next_bacterium]\n",
    "bacteria_left = set(bacteria) - {next_bacterium}\n",
    "\n",
    "while bacteria_left:\n",
    "    last_bacterium = next_bacterium\n",
    "    next_bacterium = max(bacteria_left, key=(lambda bacterium: corr[last_bacterium][bacterium]))\n",
    "    sorted_bacteria.append(next_bacterium)\n",
    "    bacteria_left.remove(next_bacterium)\n",
    "\n",
    "sns.heatmap(df[sorted_bacteria].corr())"
   ]
  },
  {
   "cell_type": "markdown",
   "id": "74768a53-54ea-4fb3-871f-8a522abf5c66",
   "metadata": {},
   "source": [
    "There are sets of columns that are strongly correlated. I selected a low-correlated subset by hand, preferring bacteria with higher imbalances and those I know are relevant."
   ]
  },
  {
   "cell_type": "code",
   "execution_count": 7,
   "id": "4bee9327-b26f-4ab5-a59b-7ce7f8eef575",
   "metadata": {},
   "outputs": [],
   "source": [
    "selected_bacteria = [\n",
    "    'E. faecium',\n",
    "    'C. butyricum',\n",
    "    'Candida',\n",
    "    'E. coli',\n",
    "    'Bacteroides',\n",
    "    'Lachnospiraceae',\n",
    "    'Ruminococcaceae',\n",
    "    'Oscillospira',\n",
    "    'Bacteroidetes',  # not that correlated with Bacteroides, interesting\n",
    "    'Bifidobacterium',\n",
    "    'Lactobacillus',\n",
    "    'Firmicutes',\n",
    "    'A. muciniphila',\n",
    "    'Proteobacteria',\n",
    "]"
   ]
  },
  {
   "cell_type": "markdown",
   "id": "6f05add6-77c6-4a96-b83a-c89eaf76491d",
   "metadata": {},
   "source": [
    "## Regression\n",
    "\n",
    "Run linear regression + L2 regularization in leave-one-out CV."
   ]
  },
  {
   "cell_type": "code",
   "execution_count": 8,
   "id": "76bb8ee5-347a-4df2-969f-2fffca8672e4",
   "metadata": {},
   "outputs": [
    {
     "name": "stdout",
     "output_type": "stream",
     "text": [
      "mse: 2.8134725856019744 [7.93920706e-01 7.09071934e-01 1.15754172e+00 5.98809623e-01\n",
      " 1.65266547e+00 4.32629955e-02 4.95139465e+00 1.00554039e+01\n",
      " 1.11479345e+01 1.67013010e+00 1.28166734e-03 2.16357954e+00\n",
      " 1.63014678e+00]\n"
     ]
    }
   ],
   "source": [
    "ridge_reg = sklin.Ridge(alpha=1e-5)\n",
    "scores = -skval.cross_val_score(ridge_reg, df[selected_bacteria], target, cv=skval.LeaveOneOut(), scoring='neg_mean_squared_error')\n",
    "print('mse:', scores.mean(), scores)"
   ]
  },
  {
   "cell_type": "markdown",
   "id": "5712a8bd-1995-4283-95c1-f94915566439",
   "metadata": {},
   "source": [
    "Could be worse. Sanity check: compare with the constant model."
   ]
  },
  {
   "cell_type": "code",
   "execution_count": 9,
   "id": "0999e64a-4637-4a74-a6e1-3b42941cbf01",
   "metadata": {},
   "outputs": [
    {
     "name": "stdout",
     "output_type": "stream",
     "text": [
      "const mse: 4.437869822485207\n"
     ]
    }
   ],
   "source": [
    "print('const mse:', np.mean((target - np.mean(target)) ** 2))"
   ]
  },
  {
   "cell_type": "markdown",
   "id": "d1c5bb32-7e9d-429d-87fd-f32de50e9a6f",
   "metadata": {},
   "source": [
    "Regression is much better, which means there's signal in the data."
   ]
  },
  {
   "cell_type": "code",
   "execution_count": 10,
   "id": "a83176c6-44d2-42a9-8862-7a69b618c7b2",
   "metadata": {},
   "outputs": [
    {
     "data": {
      "text/plain": [
       "{'E. faecium': 0.5092112857124604,\n",
       " 'C. butyricum': 1.6471255479235878,\n",
       " 'Candida': -1.0381086910248045,\n",
       " 'E. coli': 2.224112281360364,\n",
       " 'Bacteroides': -1.3790723445435704,\n",
       " 'Lachnospiraceae': 0.6210516660314395,\n",
       " 'Ruminococcaceae': 0.589480891276866,\n",
       " 'Oscillospira': -0.8066778383039851,\n",
       " 'Bacteroidetes': 0.8867810511764084,\n",
       " 'Bifidobacterium': -0.2353914224712281,\n",
       " 'Lactobacillus': 0.3317917339135526,\n",
       " 'Firmicutes': 0.5458019949564946,\n",
       " 'A. muciniphila': 1.299103088499505,\n",
       " 'Proteobacteria': -0.5804716396791049}"
      ]
     },
     "execution_count": 10,
     "metadata": {},
     "output_type": "execute_result"
    }
   ],
   "source": [
    "ridge_reg.fit(df[selected_bacteria], target)\n",
    "coefs = dict(zip(selected_bacteria, map(float, ridge_reg.coef_)))\n",
    "coefs"
   ]
  },
  {
   "cell_type": "markdown",
   "id": "df185686-6aa0-4dc4-9050-9521cbf60453",
   "metadata": {},
   "source": [
    "However, if we compare those coefficients with my imbalances below, we see that some go in the same directions the imbalances, which doesn't make a lot of sense."
   ]
  },
  {
   "cell_type": "code",
   "execution_count": 11,
   "id": "913ec060-14ea-4515-a18c-d6f719382e4c",
   "metadata": {},
   "outputs": [],
   "source": [
    "# in which quantile of the population am I for each bacterium?\n",
    "quantiles = {\n",
    "    'Candida': None,  # no data\n",
    "    'A. muciniphila': 0.3,\n",
    "    'Bacteroides': 0.96,\n",
    "    'Bacteroidetes': 0.97,\n",
    "    'Bifidobacterium': 0.35,\n",
    "    'Blautia': 0.14,\n",
    "    'Clostridium': 0.06,\n",
    "    'Coprococcus': 0.1,\n",
    "    'C. butyricum': 0,\n",
    "    'Enterococcus': 0.82,\n",
    "    'E. coli': 0.7,\n",
    "    'E. faecium': 0,\n",
    "    'Faecalibacterium': 0.39,\n",
    "    'Firmicutes': 0.08,\n",
    "    'Lachnospiraceae': 0.03,\n",
    "    'Lactobacillus': 0.22,\n",
    "    'Oscillospira': 0.97,\n",
    "    'Proteobacteria': 0.08,\n",
    "    'Roseburia': 0.19,\n",
    "    'Ruminococcaceae': 0.36,\n",
    "    'Ruminococcus': 0.1,\n",
    "}"
   ]
  },
  {
   "cell_type": "markdown",
   "id": "0b5a4abb-e4ef-4167-871e-17a65556bd5f",
   "metadata": {},
   "source": [
    "## Constraints\n",
    "\n",
    "Let's try a model with constraints: if I have a high imbalance (quantile outside $[0.25, 0.75]$) of some bacterium, the coefficient can only in the direction decreasing the imbalance."
   ]
  },
  {
   "cell_type": "code",
   "execution_count": 12,
   "id": "c92d5b14-4518-4ed7-bfe1-89bf7901b955",
   "metadata": {},
   "outputs": [],
   "source": [
    "class ConstrainedRidge(skb.BaseEstimator, skb.RegressorMixin):\n",
    "    \n",
    "    def __init__(self, alpha: float, coef_signs: np.ndarray) -> None:\n",
    "        self.alpha = alpha\n",
    "        self.coef_signs = coef_signs\n",
    "\n",
    "    def fit(self, X: np.ndarray, y: np.ndarray) -> \"ConstrainedRidge\":\n",
    "        X = np.array(X)\n",
    "        y = np.array(y)\n",
    "        (n_ex, dim) = X.shape\n",
    "        assert y.shape == (n_ex,)\n",
    "\n",
    "        # TIL cvxpy, a Python library for convex optimization. Pretty cool!\n",
    "        coef = cp.Variable(dim)\n",
    "        intercept = cp.Variable(1)\n",
    "        objective = cp.Minimize(\n",
    "            cp.sum_squares(X @ coef + intercept - y)\n",
    "            + self.alpha * cp.sum_squares(coef)\n",
    "        )\n",
    "        constraints = [cp.multiply(coef, self.coef_signs) >= 0]\n",
    "        problem = cp.Problem(objective, constraints)\n",
    "        problem.solve()\n",
    "\n",
    "        self.coef_ = coef.value\n",
    "        self.intercept_ = intercept.value\n",
    "        return self\n",
    "\n",
    "    def predict(self, X: np.ndarray) -> np.ndarray:\n",
    "        return np.dot(np.array(X), self.coef_) + self.intercept_"
   ]
  },
  {
   "cell_type": "markdown",
   "id": "196ed085-1299-49ee-83f7-c17dea664598",
   "metadata": {},
   "source": [
    "Does it work the same as Ridge when there are no constraints?"
   ]
  },
  {
   "cell_type": "code",
   "execution_count": 13,
   "id": "999f1762-ecf2-4217-a471-422a573abd3e",
   "metadata": {},
   "outputs": [
    {
     "name": "stdout",
     "output_type": "stream",
     "text": [
      "ridge mse: 2.8134725856019744 [7.93920706e-01 7.09071934e-01 1.15754172e+00 5.98809623e-01\n",
      " 1.65266547e+00 4.32629955e-02 4.95139465e+00 1.00554039e+01\n",
      " 1.11479345e+01 1.67013010e+00 1.28166734e-03 2.16357954e+00\n",
      " 1.63014678e+00]\n",
      "constrained ridge mse: 2.8134345489386243 [7.94028737e-01 7.08974990e-01 1.15751147e+00 5.98755987e-01\n",
      " 1.65274979e+00 4.32610945e-02 4.95132697e+00 1.00552870e+01\n",
      " 1.11478753e+01 1.66975655e+00 1.28200959e-03 2.16361347e+00\n",
      " 1.63022575e+00]\n"
     ]
    }
   ],
   "source": [
    "ridge_reg = sklin.Ridge(alpha=1e-5)\n",
    "scores = -skval.cross_val_score(ridge_reg, df[selected_bacteria], target, cv=skval.LeaveOneOut(), scoring='neg_mean_squared_error')\n",
    "print('ridge mse:', scores.mean(), scores)\n",
    "\n",
    "constr_ridge_reg = ConstrainedRidge(alpha=1e-5, coef_signs=0)\n",
    "scores = -skval.cross_val_score(constr_ridge_reg, df[selected_bacteria], target, cv=skval.LeaveOneOut(), scoring='neg_mean_squared_error')\n",
    "print('constrained ridge mse:', scores.mean(), scores)"
   ]
  },
  {
   "cell_type": "markdown",
   "id": "22a92c6e-cff7-4fe3-adcd-f44c3ae732df",
   "metadata": {},
   "source": [
    "Yes! Let's take it for a spin."
   ]
  },
  {
   "cell_type": "code",
   "execution_count": 14,
   "id": "b782b22d-a1f3-4183-8d8b-f5b270579e98",
   "metadata": {},
   "outputs": [
    {
     "name": "stdout",
     "output_type": "stream",
     "text": [
      "mse: 3.988891964151584 [6.49665164e-01 1.86686345e+00 3.89389897e+00 1.86892949e-01\n",
      " 4.96331083e-04 1.26000380e+00 7.47082490e+00 1.10411665e+01\n",
      " 2.37034205e+01 1.90132066e-01 8.95943909e-02 1.24872453e+00\n",
      " 2.53911941e-01]\n"
     ]
    }
   ],
   "source": [
    "coef_signs = -np.array([\n",
    "    quantiles[bacterium] - 0.5\n",
    "    if quantiles[bacterium] is not None and not (0.25 < quantiles[bacterium] < 0.75)\n",
    "    else 0.0\n",
    "    for bacterium in selected_bacteria\n",
    "])\n",
    "\n",
    "constr_ridge_reg = ConstrainedRidge(alpha=1e0, coef_signs=coef_signs)\n",
    "scores = -skval.cross_val_score(constr_ridge_reg, df[selected_bacteria], target, cv=skval.LeaveOneOut(), scoring='neg_mean_squared_error')\n",
    "print('mse:', scores.mean(), scores)"
   ]
  },
  {
   "cell_type": "markdown",
   "id": "e8c091b3-7fe7-4945-a812-b60726903110",
   "metadata": {},
   "source": [
    "Ooops, works much worse. This shows that the previous model's decent performance relied on shifts in the wrong directions."
   ]
  },
  {
   "cell_type": "code",
   "execution_count": 15,
   "id": "1da9d962-341f-403a-a49b-2c1896cf6282",
   "metadata": {},
   "outputs": [
    {
     "data": {
      "text/plain": [
       "{'E. faecium': 0.6426135690417396,\n",
       " 'C. butyricum': 1.1500044001474057,\n",
       " 'Candida': -0.7449592432560497,\n",
       " 'E. coli': 1.7033114363283572,\n",
       " 'Bacteroides': -0.570353940710336,\n",
       " 'Lachnospiraceae': 0.5927645162300886,\n",
       " 'Ruminococcaceae': 0.9297297754474957,\n",
       " 'Oscillospira': -0.6659231884005841,\n",
       " 'Bifidobacterium': 0.2990668787298117,\n",
       " 'Lactobacillus': 0.09210552304498508,\n",
       " 'Firmicutes': 0.09817542554244338,\n",
       " 'A. muciniphila': 0.7200957075027454}"
      ]
     },
     "execution_count": 15,
     "metadata": {},
     "output_type": "execute_result"
    }
   ],
   "source": [
    "constr_ridge_reg.fit(df[selected_bacteria], target)\n",
    "{bacterium: float(coef) for bacterium, coef in zip(selected_bacteria, constr_ridge_reg.coef_) if abs(coef) > 1e-3}"
   ]
  },
  {
   "cell_type": "markdown",
   "id": "af1ecfa6-f7d3-4040-8cd7-eea807d4c8e8",
   "metadata": {},
   "source": [
    "At least the coefficients look reasonable."
   ]
  },
  {
   "cell_type": "markdown",
   "id": "931ba38a-7c98-421b-934e-610198b7c3d0",
   "metadata": {},
   "source": [
    "## Bootstrap ensemble\n",
    "\n",
    "Other than getting better results, it would be nice to get confidence intervals on the coefficients. I know there's some statisticky way to do that, but as a lowly ML engineer I don't know how. Also, I don't know how it interacts with constraints. Finally, as we'll see in the moment, the approach I used results in a **much** better model.\n",
    "\n",
    "Let's make a bootstrap ensemble. This also gives us CV for free."
   ]
  },
  {
   "cell_type": "code",
   "execution_count": 16,
   "id": "dceeb596-3ea7-44a6-a652-0b4ca030cba7",
   "metadata": {},
   "outputs": [
    {
     "name": "stdout",
     "output_type": "stream",
     "text": [
      "mean mse: 5.406775064792039\n"
     ]
    }
   ],
   "source": [
    "bootstrap_coefs = []\n",
    "bootstrap_intercepts = []\n",
    "bootstrap_mses = []\n",
    "for _ in range(10000):\n",
    "    train_indices = []\n",
    "    for _ in range(len(df)):\n",
    "        train_indices.append(random.randrange(len(df)))\n",
    "    train_df = df.iloc[train_indices]\n",
    "    train_target = target.iloc[train_indices]\n",
    "    \n",
    "    reg = ConstrainedRidge(alpha=10, coef_signs=coef_signs)\n",
    "    reg.fit(train_df[selected_bacteria], train_target)\n",
    "    \n",
    "    test_indices = list(set(range(len(df))) - set(train_indices))\n",
    "    if not test_indices:\n",
    "        continue\n",
    "    test_df = df.iloc[test_indices]\n",
    "    test_target = target.iloc[test_indices]\n",
    "\n",
    "    bootstrap_coefs.append(reg.coef_)\n",
    "    bootstrap_intercepts.append(reg.intercept_)\n",
    "    bootstrap_mses.append(float(np.mean((reg.predict(test_df[selected_bacteria]) - test_target) ** 2)))\n",
    "\n",
    "print(f'mean mse:', np.mean(bootstrap_mses))"
   ]
  },
  {
   "cell_type": "markdown",
   "id": "36f2f565-f26b-4526-ba80-f1f72982614e",
   "metadata": {},
   "source": [
    "An average model in the ensemble is even worse than before. This is to be expected, as it has even less data.\n",
    "\n",
    "Let's average coefficients over the ensemble and compute confidence intervals."
   ]
  },
  {
   "cell_type": "code",
   "execution_count": 17,
   "id": "0528a656-7488-417b-a439-08ae3ce568ed",
   "metadata": {
    "scrolled": true
   },
   "outputs": [
    {
     "name": "stdout",
     "output_type": "stream",
     "text": [
      "ensemble mse: 2.3845606621740667 [0.35651811 3.57338134 0.5281618  0.04714557 0.02335698 4.06750248\n",
      " 5.41117794 4.97506537 7.77690909 0.08936067 0.15941928 3.92164527\n",
      " 0.06964471]\n"
     ]
    }
   ],
   "source": [
    "mean_coefs = np.mean(bootstrap_coefs, axis=0)\n",
    "std_coefs = np.std(bootstrap_coefs, axis=0)\n",
    "mean_intercept = np.mean(bootstrap_intercepts)\n",
    "mses = (np.dot(df[selected_bacteria], mean_coefs) + mean_intercept - target) ** 2\n",
    "maes = np.abs(np.dot(df[selected_bacteria], mean_coefs) + mean_intercept - target)\n",
    "print('ensemble mse:', np.mean(mses), np.array(mses))"
   ]
  },
  {
   "cell_type": "markdown",
   "id": "a603254a-cb82-4a3d-8683-4cd3b6890d6d",
   "metadata": {},
   "source": [
    "Whoa, it works better than the unconstrained model. Nice!\n",
    "\n",
    "Now we can compute p-values for the predictions."
   ]
  },
  {
   "cell_type": "code",
   "execution_count": 18,
   "id": "53ada186-75ed-4b7e-ac13-8594edbeb8b9",
   "metadata": {},
   "outputs": [
    {
     "name": "stdout",
     "output_type": "stream",
     "text": [
      "Ruminococcaceae: 0.401 ~ 0.135; p=0.001\n",
      "E. coli: 0.514 ~ 0.230; p=0.013\n",
      "A. muciniphila: 0.303 ~ 0.239; p=0.102\n",
      "C. butyricum: 0.357 ~ 0.223; p=0.110\n",
      "Lachnospiraceae: 0.154 ~ 0.134; p=0.252\n",
      "E. faecium: 0.206 ~ 0.185; p=0.264\n",
      "Bifidobacterium: 0.105 ~ 0.173; p=0.273\n",
      "Firmicutes: 0.139 ~ 0.134; p=0.299\n",
      "Bacteroidetes: -0.034 ~ 0.061; p=0.423\n",
      "Candida: -0.030 ~ 0.199; p=0.441\n",
      "Bacteroides: -0.088 ~ 0.117; p=0.548\n",
      "Lactobacillus: 0.060 ~ 0.102; p=0.555\n",
      "Oscillospira: -0.090 ~ 0.108; p=0.595\n",
      "Proteobacteria: 0.005 ~ 0.022; p=0.826\n"
     ]
    }
   ],
   "source": [
    "def pvalue(mean: float, std: float, coef_sign: float) -> float:\n",
    "    if mean > 0:\n",
    "        assert coef_sign >= 0\n",
    "        if coef_sign == 0:\n",
    "            return 1 - stats.norm(0, std).cdf(mean)\n",
    "        else:\n",
    "            # cut out the lower half & normalize\n",
    "            return 1 - 2 * (stats.norm(0, std).cdf(mean) - 0.5)\n",
    "    else:\n",
    "        assert coef_sign <= 0\n",
    "        if coef_sign == 0:\n",
    "            return stats.norm(0, std).cdf(mean)\n",
    "        else:\n",
    "            # cut out the upper half & normalize\n",
    "            return 2 * (0.5 - stats.norm(0, std).cdf(mean))\n",
    "\n",
    "data = [\n",
    "    (bacterium, mean_coef, std_coef, pvalue(mean_coef, std_coef, coef_sign))\n",
    "    for (bacterium, mean_coef, std_coef, coef_sign) in zip(\n",
    "        selected_bacteria, mean_coefs, std_coefs, coef_signs\n",
    "    )\n",
    "]\n",
    "data.sort(key=(lambda p: p[-1]))\n",
    "\n",
    "for bacterium, mean, std, p in data:\n",
    "    print(f'{bacterium}: {mean:.3f} ~ {std:.3f}; p={p:.3f}')"
   ]
  },
  {
   "cell_type": "markdown",
   "id": "21d99f34-c6c1-4e0e-9e68-200550b2ccb3",
   "metadata": {},
   "source": [
    "Looks reasonable, I think. One of the most certain predictions is that I should increase E. coli. Interesting, considering that I'm in the 70 percentile. Maybe I have too much of bad E. coli and too little of the good? This recommendation agrees with both my KEGG \"compounds\" and \"enzymes\" recommendations from https://microbiomeprescription.com, so maybe it's worth trying out.\n",
    "\n",
    "It also recommends to increase C. butyricum even though it gave me a bad herx. But that could be from something else, I suppose. Need to try again sometime.\n",
    "\n",
    "And apparently I don't have a Candida overgrowth (high p-value = little impact on symptoms), which is nice."
   ]
  },
  {
   "cell_type": "markdown",
   "id": "5568e1f8-38d8-4dc5-886a-efdae0d47096",
   "metadata": {},
   "source": [
    "## Future work\n",
    "\n",
    "Definitely try more probiotics to get more data & better predictions.\n",
    "\n",
    "I was also thinking about making the model more principled by using Bayesian linear regression. This  would also allow to naturally incorporate data uncertainty, which could work better than log odds."
   ]
  },
  {
   "cell_type": "code",
   "execution_count": null,
   "id": "e116431c-3e18-41eb-988c-9cf1b19f99da",
   "metadata": {},
   "outputs": [],
   "source": []
  }
 ],
 "metadata": {
  "kernelspec": {
   "display_name": "Python 3 (ipykernel)",
   "language": "python",
   "name": "python3"
  },
  "language_info": {
   "codemirror_mode": {
    "name": "ipython",
    "version": 3
   },
   "file_extension": ".py",
   "mimetype": "text/x-python",
   "name": "python",
   "nbconvert_exporter": "python",
   "pygments_lexer": "ipython3",
   "version": "3.12.9"
  }
 },
 "nbformat": 4,
 "nbformat_minor": 5
}
